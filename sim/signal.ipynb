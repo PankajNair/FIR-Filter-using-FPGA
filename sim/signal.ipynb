{
 "cells": [
  {
   "cell_type": "code",
   "execution_count": 1,
   "metadata": {},
   "outputs": [],
   "source": [
    "import numpy as np   \n",
    "from scipy.signal import hamming, firwin, freqz\n",
    "import matplotlib.pyplot as plt "
   ]
  },
  {
   "cell_type": "code",
   "execution_count": 14,
   "metadata": {},
   "outputs": [],
   "source": [
    "N = 101\n",
    "fc = eval(input('Enter the cutoff frequency = '))\n",
    "Fs = eval(input('Enter the sampling frequency = '))\n",
    "FN = 2*fc"
   ]
  },
  {
   "cell_type": "code",
   "execution_count": 15,
   "metadata": {},
   "outputs": [
    {
     "name": "stdout",
     "output_type": "stream",
     "text": [
      "Normalized digital cutoff frequency = 0.078125\n",
      "Digital cutoff frequency = 0.2454369260617026\n",
      "FIR Low Pass Filter Coefficients using formula h[n] = [-0.00020905 -0.00038207 -0.00055449 -0.00072404 -0.00088438 -0.00102411\n",
      " -0.00112671 -0.00117123 -0.00113406 -0.00099144 -0.00072278 -0.00031423\n",
      "  0.00023762  0.00092252  0.00171417  0.00256904  0.00342679  0.00421245\n",
      "  0.00484046  0.00522038  0.00526417  0.00489435  0.00405275  0.00270884\n",
      "  0.00086726 -0.00142651 -0.00408274 -0.00696704 -0.00990312 -0.012679\n",
      " -0.01505643 -0.01678322 -0.01760784 -0.01729543 -0.01564417 -0.01250108\n",
      " -0.00777594 -0.00145232  0.00640507  0.01564762  0.02604494  0.037292\n",
      "  0.04902111  0.06081817  0.07224228  0.08284775  0.09220698  0.0999331\n",
      "  0.10570072  0.10926372  0.11046875  0.10926372  0.10570072  0.0999331\n",
      "  0.09220698  0.08284775  0.07224228  0.06081817  0.04902111  0.037292\n",
      "  0.02604494  0.01564762  0.00640507 -0.00145232 -0.00777594 -0.01250108\n",
      " -0.01564417 -0.01729543 -0.01760784 -0.01678322 -0.01505643 -0.012679\n",
      " -0.00990312 -0.00696704 -0.00408274 -0.00142651  0.00086726  0.00270884\n",
      "  0.00405275  0.00489435  0.00526417  0.00522038  0.00484046  0.00421245\n",
      "  0.00342679  0.00256904  0.00171417  0.00092252  0.00023762 -0.00031423\n",
      " -0.00072278 -0.00099144 -0.00113406 -0.00117123 -0.00112671 -0.00102411\n",
      " -0.00088438 -0.00072404 -0.00055449 -0.00038207 -0.00020905]\n"
     ]
    }
   ],
   "source": [
    "wn = hamming(N)\n",
    "print(f'Normalized digital cutoff frequency = {fc/Fs}')\n",
    "wc = (fc/Fs)*np.pi\n",
    "print(f'Digital cutoff frequency = {wc}')\n",
    "K = 1.414\n",
    "T = (N-1)/2\n",
    "hd = np.zeros(N)\n",
    "h = np.zeros(N)\n",
    "for n in range(N):\n",
    "    if n == T:\n",
    "        hd[n] = wc/np.pi\n",
    "    else:\n",
    "        hd[n] = np.sin(wc*(n-T))/(np.pi*(n-T))\n",
    "    h[n] = hd[n]*wn[n]\n",
    "    h[n] = h[n]*K\n",
    "print(f'FIR Low Pass Filter Coefficients using formula h[n] = {h}')"
   ]
  },
  {
   "cell_type": "code",
   "execution_count": 17,
   "metadata": {},
   "outputs": [
    {
     "data": {
      "image/png": "[encoded data removed]",
      "text/plain": [
       "<Figure size 432x288 with 1 Axes>"
      ]
     },
     "metadata": {
      "needs_background": "light"
     },
     "output_type": "display_data"
    }
   ],
   "source": [
    "W,H = freqz(h, worN = 8000)\n",
    "plt.plot((W/max(W)), np.absolute(H))\n",
    "plt.xlabel('Normalized Digital Frequency')\n",
    "plt.ylabel('Gain')\n",
    "plt.title(' Frequency Response of FIR Low Pass Filter')\n",
    "plt.grid(True)"
   ]
  },
  {
   "cell_type": "code",
   "execution_count": null,
   "metadata": {},
   "outputs": [],
   "source": []
  }
 ],
 "metadata": {
  "kernelspec": {
   "display_name": "Python 3",
   "language": "python",
   "name": "python3"
  },
  "language_info": {
   "codemirror_mode": {
    "name": "ipython",
    "version": 3
   },
   "file_extension": ".py",
   "mimetype": "text/x-python",
   "name": "python",
   "nbconvert_exporter": "python",
   "pygments_lexer": "ipython3",
   "version": "3.9.0"
  }
 },
 "nbformat": 4,
 "nbformat_minor": 2
}
